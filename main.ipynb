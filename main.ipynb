{
 "cells": [
  {
   "cell_type": "code",
   "execution_count": 1,
   "metadata": {
    "id": "L2P_DGfo8HNN"
   },
   "outputs": [],
   "source": [
    "import pandas as pd\n",
    "import numpy as np\n",
    "import matplotlib.pyplot as plt\n",
    "import seaborn as sns\n",
    "from sklearn.cluster import KMeans\n",
    "from sklearn.metrics import silhouette_score, mean_squared_error"
   ]
  },
  {
   "cell_type": "markdown",
   "metadata": {
    "id": "8NJiBo5ZCAV6"
   },
   "source": [
    "Chargement des données"
   ]
  },
  {
   "cell_type": "code",
   "execution_count": 2,
   "metadata": {
    "id": "vnzhklBOBpW3"
   },
   "outputs": [],
   "source": [
    "data_movies= pd.read_csv(\"movies.csv\")"
   ]
  },
  {
   "cell_type": "code",
   "execution_count": 3,
   "metadata": {
    "id": "APNWesGUDgZQ"
   },
   "outputs": [],
   "source": [
    "data_ratings= pd.read_csv(\"ratings.csv\")"
   ]
  },
  {
   "cell_type": "markdown",
   "metadata": {
    "id": "zfCiwSXLCZSM"
   },
   "source": [
    "Visualisation du dataset des films\n",
    "\n",
    "\n"
   ]
  },
  {
   "cell_type": "code",
   "execution_count": 4,
   "metadata": {
    "colab": {
     "base_uri": "https://localhost:8080/",
     "height": 206
    },
    "id": "lMI2ADYAB8YL",
    "outputId": "25419981-e65b-45a9-ebcd-c81d5b6eea2d"
   },
   "outputs": [
    {
     "data": {
      "text/html": [
       "<div>\n",
       "<style scoped>\n",
       "    .dataframe tbody tr th:only-of-type {\n",
       "        vertical-align: middle;\n",
       "    }\n",
       "\n",
       "    .dataframe tbody tr th {\n",
       "        vertical-align: top;\n",
       "    }\n",
       "\n",
       "    .dataframe thead th {\n",
       "        text-align: right;\n",
       "    }\n",
       "</style>\n",
       "<table border=\"1\" class=\"dataframe\">\n",
       "  <thead>\n",
       "    <tr style=\"text-align: right;\">\n",
       "      <th></th>\n",
       "      <th>movieId</th>\n",
       "      <th>title</th>\n",
       "      <th>genres</th>\n",
       "    </tr>\n",
       "  </thead>\n",
       "  <tbody>\n",
       "    <tr>\n",
       "      <th>0</th>\n",
       "      <td>1</td>\n",
       "      <td>Toy Story (1995)</td>\n",
       "      <td>Adventure|Animation|Children|Comedy|Fantasy</td>\n",
       "    </tr>\n",
       "    <tr>\n",
       "      <th>1</th>\n",
       "      <td>2</td>\n",
       "      <td>Jumanji (1995)</td>\n",
       "      <td>Adventure|Children|Fantasy</td>\n",
       "    </tr>\n",
       "    <tr>\n",
       "      <th>2</th>\n",
       "      <td>3</td>\n",
       "      <td>Grumpier Old Men (1995)</td>\n",
       "      <td>Comedy|Romance</td>\n",
       "    </tr>\n",
       "    <tr>\n",
       "      <th>3</th>\n",
       "      <td>4</td>\n",
       "      <td>Waiting to Exhale (1995)</td>\n",
       "      <td>Comedy|Drama|Romance</td>\n",
       "    </tr>\n",
       "    <tr>\n",
       "      <th>4</th>\n",
       "      <td>5</td>\n",
       "      <td>Father of the Bride Part II (1995)</td>\n",
       "      <td>Comedy</td>\n",
       "    </tr>\n",
       "  </tbody>\n",
       "</table>\n",
       "</div>"
      ],
      "text/plain": [
       "   movieId                               title  \\\n",
       "0        1                    Toy Story (1995)   \n",
       "1        2                      Jumanji (1995)   \n",
       "2        3             Grumpier Old Men (1995)   \n",
       "3        4            Waiting to Exhale (1995)   \n",
       "4        5  Father of the Bride Part II (1995)   \n",
       "\n",
       "                                        genres  \n",
       "0  Adventure|Animation|Children|Comedy|Fantasy  \n",
       "1                   Adventure|Children|Fantasy  \n",
       "2                               Comedy|Romance  \n",
       "3                         Comedy|Drama|Romance  \n",
       "4                                       Comedy  "
      ]
     },
     "execution_count": 4,
     "metadata": {},
     "output_type": "execute_result"
    }
   ],
   "source": [
    "data_movies.head()"
   ]
  },
  {
   "cell_type": "code",
   "execution_count": 9,
   "metadata": {
    "colab": {
     "base_uri": "https://localhost:8080/"
    },
    "id": "WGtYZ4FqNp1R",
    "outputId": "0de32e8b-6fd2-4447-bd1b-08c61d556b50"
   },
   "outputs": [
    {
     "data": {
      "text/plain": [
       "(62423, 3)"
      ]
     },
     "execution_count": 9,
     "metadata": {},
     "output_type": "execute_result"
    }
   ],
   "source": [
    "data_movies.shape"
   ]
  },
  {
   "cell_type": "code",
   "execution_count": 6,
   "metadata": {
    "colab": {
     "base_uri": "https://localhost:8080/",
     "height": 489
    },
    "id": "cmjHdeM_C-1H",
    "outputId": "d3dbe413-8492-4707-e0d6-40e51f0f090c"
   },
   "outputs": [
    {
     "data": {
      "text/plain": [
       "genres\n",
       "Drama                                    9056\n",
       "Comedy                                   5674\n",
       "(no genres listed)                       5062\n",
       "Documentary                              4731\n",
       "Comedy|Drama                             2386\n",
       "                                         ... \n",
       "Action|Animation|Drama|Fantasy|Sci-Fi       1\n",
       "Comedy|Drama|Mystery|Romance|Thriller       1\n",
       "Comedy|Horror|Musical|Western               1\n",
       "Animation|Mystery|Thriller                  1\n",
       "Action|Animation|Crime|Drama|Mystery        1\n",
       "Name: count, Length: 1639, dtype: int64"
      ]
     },
     "execution_count": 6,
     "metadata": {},
     "output_type": "execute_result"
    }
   ],
   "source": [
    "data_movies['genres'].value_counts()"
   ]
  },
  {
   "cell_type": "markdown",
   "metadata": {},
   "source": [
    "Diagramme en bâton illustrant le nombre de films que l'on a par genre"
   ]
  },
  {
   "cell_type": "code",
   "execution_count": 10,
   "metadata": {
    "id": "XPZznsRDgQ4B"
   },
   "outputs": [],
   "source": [
    "# Extraire tous les genres uniques\n",
    "all_genres = set()\n",
    "for genres_str in data_movies['genres']:\n",
    "    all_genres.update(genres_str.split('|'))\n",
    "\n",
    "# Trier les genres par ordre alphabètique\n",
    "all_genres = sorted(all_genres)\n",
    "\n",
    "# Créer un dataframe\n",
    "genres_count = pd.DataFrame({'Genres': all_genres, 'Count': 0 }, columns = ['Genres', 'Count'])\n",
    "\n",
    "# Remplir la matrice\n",
    "for idx, row in data_movies.iterrows():\n",
    "    movie_genres = row['genres'].split('|')\n",
    "    for genre in movie_genres:\n",
    "        genres_count.loc[genres_count['Genres'] == genre, 'Count'] += 1"
   ]
  },
  {
   "cell_type": "code",
   "execution_count": 11,
   "metadata": {
    "colab": {
     "base_uri": "https://localhost:8080/",
     "height": 472
    },
    "id": "wVINRg7Wryi8",
    "outputId": "21d2b5b3-895e-427a-d237-aa2c686f11f8"
   },
   "outputs": [
    {
     "data": {
      "image/png": "[encoded data removed]",
      "text/plain": [
       "<Figure size 640x480 with 1 Axes>"
      ]
     },
     "metadata": {},
     "output_type": "display_data"
    }
   ],
   "source": [
    "genres_count=genres_count.drop(genres_count[genres_count.Genres=='(no genres listed)'].index)\n",
    "# Plotting avec sns.barplot\n",
    "sns.barplot(data=genres_count, x='Count', y='Genres', hue=\"Genres\")\n",
    "plt.title(\"Genres par Frequence\")\n",
    "plt.xlabel(\"Count\")\n",
    "plt.ylabel(\"Genres\")\n",
    "plt.show()"
   ]
  },
  {
   "cell_type": "markdown",
   "metadata": {
    "id": "ltxDfv-FsWbJ"
   },
   "source": [
    "Suppression des films dont le genre n'est pas indiqué"
   ]
  },
  {
   "cell_type": "code",
   "execution_count": 12,
   "metadata": {
    "id": "oQpyqZ9Uri5Q"
   },
   "outputs": [],
   "source": [
    "#suppression de (no genres listed)\n",
    "data_movies_1 =data_movies.drop(data_movies[data_movies.genres=='(no genres listed)'].index)"
   ]
  },
  {
   "cell_type": "code",
   "execution_count": 13,
   "metadata": {
    "id": "_3jH7T1prkyH"
   },
   "outputs": [],
   "source": [
    "#Nouveau Dataframe sans les films avec genre non listés\n",
    "data_movies_1.to_csv('movies_1.csv',index=False)"
   ]
  },
  {
   "cell_type": "markdown",
   "metadata": {
    "id": "cKuu5cQECc-b"
   },
   "source": [
    "Visualisation du dataset des ratings\n"
   ]
  },
  {
   "cell_type": "code",
   "execution_count": 18,
   "metadata": {
    "colab": {
     "base_uri": "https://localhost:8080/",
     "height": 206
    },
    "id": "TzP98k5MCPsj",
    "outputId": "7e981f65-804b-46aa-de53-b7ab403010bd"
   },
   "outputs": [
    {
     "data": {
      "text/html": [
       "<div>\n",
       "<style scoped>\n",
       "    .dataframe tbody tr th:only-of-type {\n",
       "        vertical-align: middle;\n",
       "    }\n",
       "\n",
       "    .dataframe tbody tr th {\n",
       "        vertical-align: top;\n",
       "    }\n",
       "\n",
       "    .dataframe thead th {\n",
       "        text-align: right;\n",
       "    }\n",
       "</style>\n",
       "<table border=\"1\" class=\"dataframe\">\n",
       "  <thead>\n",
       "    <tr style=\"text-align: right;\">\n",
       "      <th></th>\n",
       "      <th>userId</th>\n",
       "      <th>movieId</th>\n",
       "      <th>rating</th>\n",
       "      <th>timestamp</th>\n",
       "    </tr>\n",
       "  </thead>\n",
       "  <tbody>\n",
       "    <tr>\n",
       "      <th>0</th>\n",
       "      <td>1</td>\n",
       "      <td>296</td>\n",
       "      <td>5.0</td>\n",
       "      <td>1147880044</td>\n",
       "    </tr>\n",
       "    <tr>\n",
       "      <th>1</th>\n",
       "      <td>1</td>\n",
       "      <td>306</td>\n",
       "      <td>3.5</td>\n",
       "      <td>1147868817</td>\n",
       "    </tr>\n",
       "    <tr>\n",
       "      <th>2</th>\n",
       "      <td>1</td>\n",
       "      <td>307</td>\n",
       "      <td>5.0</td>\n",
       "      <td>1147868828</td>\n",
       "    </tr>\n",
       "    <tr>\n",
       "      <th>3</th>\n",
       "      <td>1</td>\n",
       "      <td>665</td>\n",
       "      <td>5.0</td>\n",
       "      <td>1147878820</td>\n",
       "    </tr>\n",
       "    <tr>\n",
       "      <th>4</th>\n",
       "      <td>1</td>\n",
       "      <td>899</td>\n",
       "      <td>3.5</td>\n",
       "      <td>1147868510</td>\n",
       "    </tr>\n",
       "  </tbody>\n",
       "</table>\n",
       "</div>"
      ],
      "text/plain": [
       "   userId  movieId  rating   timestamp\n",
       "0       1      296     5.0  1147880044\n",
       "1       1      306     3.5  1147868817\n",
       "2       1      307     5.0  1147868828\n",
       "3       1      665     5.0  1147878820\n",
       "4       1      899     3.5  1147868510"
      ]
     },
     "execution_count": 18,
     "metadata": {},
     "output_type": "execute_result"
    }
   ],
   "source": [
    "data_ratings.head()"
   ]
  },
  {
   "cell_type": "code",
   "execution_count": 21,
   "metadata": {
    "colab": {
     "base_uri": "https://localhost:8080/"
    },
    "id": "kf0OLlBDC8ig",
    "outputId": "6353eb63-12e5-4b38-f6ca-4a7004b487d9"
   },
   "outputs": [
    {
     "data": {
      "text/plain": [
       "(25000095, 4)"
      ]
     },
     "execution_count": 21,
     "metadata": {},
     "output_type": "execute_result"
    }
   ],
   "source": [
    "data_ratings.shape"
   ]
  },
  {
   "cell_type": "markdown",
   "metadata": {},
   "source": [
    "Supprimer les utilisateurs ayant évalué moins de 5000 films (pour des raisons calculatoires)"
   ]
  },
  {
   "cell_type": "code",
   "execution_count": 22,
   "metadata": {
    "id": "pNXgekbswCp9"
   },
   "outputs": [],
   "source": [
    "users_participation_counts = data_ratings.userId.value_counts()\n",
    "# Définir le seuil\n",
    "seuil = 5000\n",
    "\n",
    "# Filtrer les utilisateurs qui ont évalué au moins 5000 films\n",
    "active_users = users_participation_counts[users_participation_counts >= seuil].index"
   ]
  },
  {
   "cell_type": "code",
   "execution_count": 23,
   "metadata": {
    "colab": {
     "base_uri": "https://localhost:8080/"
    },
    "id": "eBsnMpdLd94m",
    "outputId": "b2e2966d-bd93-496c-bb03-8e787d3a9481"
   },
   "outputs": [
    {
     "name": "stdout",
     "output_type": "stream",
     "text": [
      "Nombre de lignes après filtrage : 138974\n"
     ]
    }
   ],
   "source": [
    "# Filtrer les données d'origine\n",
    "filtered_ratings = data_ratings[data_ratings['userId'].isin(active_users)]\n",
    "# Vérifier le résultat\n",
    "print(f\"Nombre de lignes après filtrage : {filtered_ratings.shape[0]}\")"
   ]
  },
  {
   "cell_type": "code",
   "execution_count": 26,
   "metadata": {
    "colab": {
     "base_uri": "https://localhost:8080/",
     "height": 423
    },
    "id": "YX46-55h7LzG",
    "outputId": "8a3c8fd0-d12e-468a-a0dc-939c8cf7a59a"
   },
   "outputs": [
    {
     "data": {
      "text/html": [
       "<div>\n",
       "<style scoped>\n",
       "    .dataframe tbody tr th:only-of-type {\n",
       "        vertical-align: middle;\n",
       "    }\n",
       "\n",
       "    .dataframe tbody tr th {\n",
       "        vertical-align: top;\n",
       "    }\n",
       "\n",
       "    .dataframe thead th {\n",
       "        text-align: right;\n",
       "    }\n",
       "</style>\n",
       "<table border=\"1\" class=\"dataframe\">\n",
       "  <thead>\n",
       "    <tr style=\"text-align: right;\">\n",
       "      <th></th>\n",
       "      <th>userId</th>\n",
       "      <th>movieId</th>\n",
       "      <th>rating</th>\n",
       "      <th>timestamp</th>\n",
       "    </tr>\n",
       "  </thead>\n",
       "  <tbody>\n",
       "    <tr>\n",
       "      <th>3037025</th>\n",
       "      <td>20055</td>\n",
       "      <td>1</td>\n",
       "      <td>5.0</td>\n",
       "      <td>1160463838</td>\n",
       "    </tr>\n",
       "    <tr>\n",
       "      <th>3037026</th>\n",
       "      <td>20055</td>\n",
       "      <td>2</td>\n",
       "      <td>3.0</td>\n",
       "      <td>1160533952</td>\n",
       "    </tr>\n",
       "    <tr>\n",
       "      <th>3037027</th>\n",
       "      <td>20055</td>\n",
       "      <td>3</td>\n",
       "      <td>2.5</td>\n",
       "      <td>1163336461</td>\n",
       "    </tr>\n",
       "    <tr>\n",
       "      <th>3037028</th>\n",
       "      <td>20055</td>\n",
       "      <td>5</td>\n",
       "      <td>1.5</td>\n",
       "      <td>1163336723</td>\n",
       "    </tr>\n",
       "    <tr>\n",
       "      <th>3037029</th>\n",
       "      <td>20055</td>\n",
       "      <td>6</td>\n",
       "      <td>4.0</td>\n",
       "      <td>1160532816</td>\n",
       "    </tr>\n",
       "    <tr>\n",
       "      <th>...</th>\n",
       "      <td>...</td>\n",
       "      <td>...</td>\n",
       "      <td>...</td>\n",
       "      <td>...</td>\n",
       "    </tr>\n",
       "    <tr>\n",
       "      <th>21136067</th>\n",
       "      <td>137293</td>\n",
       "      <td>202253</td>\n",
       "      <td>3.0</td>\n",
       "      <td>1561243131</td>\n",
       "    </tr>\n",
       "    <tr>\n",
       "      <th>21136068</th>\n",
       "      <td>137293</td>\n",
       "      <td>202561</td>\n",
       "      <td>3.0</td>\n",
       "      <td>1561085428</td>\n",
       "    </tr>\n",
       "    <tr>\n",
       "      <th>21136069</th>\n",
       "      <td>137293</td>\n",
       "      <td>202575</td>\n",
       "      <td>3.5</td>\n",
       "      <td>1563311305</td>\n",
       "    </tr>\n",
       "    <tr>\n",
       "      <th>21136070</th>\n",
       "      <td>137293</td>\n",
       "      <td>203693</td>\n",
       "      <td>3.0</td>\n",
       "      <td>1563759849</td>\n",
       "    </tr>\n",
       "    <tr>\n",
       "      <th>21136071</th>\n",
       "      <td>137293</td>\n",
       "      <td>205421</td>\n",
       "      <td>3.0</td>\n",
       "      <td>1567646902</td>\n",
       "    </tr>\n",
       "  </tbody>\n",
       "</table>\n",
       "<p>138974 rows × 4 columns</p>\n",
       "</div>"
      ],
      "text/plain": [
       "          userId  movieId  rating   timestamp\n",
       "3037025    20055        1     5.0  1160463838\n",
       "3037026    20055        2     3.0  1160533952\n",
       "3037027    20055        3     2.5  1163336461\n",
       "3037028    20055        5     1.5  1163336723\n",
       "3037029    20055        6     4.0  1160532816\n",
       "...          ...      ...     ...         ...\n",
       "21136067  137293   202253     3.0  1561243131\n",
       "21136068  137293   202561     3.0  1561085428\n",
       "21136069  137293   202575     3.5  1563311305\n",
       "21136070  137293   203693     3.0  1563759849\n",
       "21136071  137293   205421     3.0  1567646902\n",
       "\n",
       "[138974 rows x 4 columns]"
      ]
     },
     "execution_count": 26,
     "metadata": {},
     "output_type": "execute_result"
    }
   ],
   "source": [
    "filtered_ratings"
   ]
  },
  {
   "cell_type": "code",
   "execution_count": 27,
   "metadata": {
    "colab": {
     "base_uri": "https://localhost:8080/",
     "height": 423
    },
    "id": "mst8JKmyTX9-",
    "outputId": "562bf389-41ec-434c-fc73-1cd6c0893e0a"
   },
   "outputs": [
    {
     "data": {
      "text/html": [
       "<div>\n",
       "<style scoped>\n",
       "    .dataframe tbody tr th:only-of-type {\n",
       "        vertical-align: middle;\n",
       "    }\n",
       "\n",
       "    .dataframe tbody tr th {\n",
       "        vertical-align: top;\n",
       "    }\n",
       "\n",
       "    .dataframe thead th {\n",
       "        text-align: right;\n",
       "    }\n",
       "</style>\n",
       "<table border=\"1\" class=\"dataframe\">\n",
       "  <thead>\n",
       "    <tr style=\"text-align: right;\">\n",
       "      <th></th>\n",
       "      <th>movieId</th>\n",
       "      <th>title</th>\n",
       "      <th>genres</th>\n",
       "    </tr>\n",
       "  </thead>\n",
       "  <tbody>\n",
       "    <tr>\n",
       "      <th>15881</th>\n",
       "      <td>83773.0</td>\n",
       "      <td>Away with Words (San tiao ren) (1999)</td>\n",
       "      <td>(no genres listed)</td>\n",
       "    </tr>\n",
       "    <tr>\n",
       "      <th>16060</th>\n",
       "      <td>84768.0</td>\n",
       "      <td>Glitterbug (1994)</td>\n",
       "      <td>(no genres listed)</td>\n",
       "    </tr>\n",
       "    <tr>\n",
       "      <th>16351</th>\n",
       "      <td>86493.0</td>\n",
       "      <td>Age of the Earth, The (A Idade da Terra) (1980)</td>\n",
       "      <td>(no genres listed)</td>\n",
       "    </tr>\n",
       "    <tr>\n",
       "      <th>16491</th>\n",
       "      <td>87061.0</td>\n",
       "      <td>Trails (Veredas) (1978)</td>\n",
       "      <td>(no genres listed)</td>\n",
       "    </tr>\n",
       "    <tr>\n",
       "      <th>17404</th>\n",
       "      <td>91246.0</td>\n",
       "      <td>Milky Way (Tejút) (2007)</td>\n",
       "      <td>(no genres listed)</td>\n",
       "    </tr>\n",
       "    <tr>\n",
       "      <th>...</th>\n",
       "      <td>...</td>\n",
       "      <td>...</td>\n",
       "      <td>...</td>\n",
       "    </tr>\n",
       "    <tr>\n",
       "      <th>62400</th>\n",
       "      <td>209101.0</td>\n",
       "      <td>Hua yang de nian hua (2001)</td>\n",
       "      <td>(no genres listed)</td>\n",
       "    </tr>\n",
       "    <tr>\n",
       "      <th>62401</th>\n",
       "      <td>209103.0</td>\n",
       "      <td>Tsar Ivan the Terrible (1991)</td>\n",
       "      <td>(no genres listed)</td>\n",
       "    </tr>\n",
       "    <tr>\n",
       "      <th>62407</th>\n",
       "      <td>209133.0</td>\n",
       "      <td>The Riot and the Dance (2018)</td>\n",
       "      <td>(no genres listed)</td>\n",
       "    </tr>\n",
       "    <tr>\n",
       "      <th>62415</th>\n",
       "      <td>209151.0</td>\n",
       "      <td>Mao Zedong 1949 (2019)</td>\n",
       "      <td>(no genres listed)</td>\n",
       "    </tr>\n",
       "    <tr>\n",
       "      <th>62421</th>\n",
       "      <td>209169.0</td>\n",
       "      <td>A Girl Thing (2001)</td>\n",
       "      <td>(no genres listed)</td>\n",
       "    </tr>\n",
       "  </tbody>\n",
       "</table>\n",
       "<p>5062 rows × 3 columns</p>\n",
       "</div>"
      ],
      "text/plain": [
       "        movieId                                            title  \\\n",
       "15881   83773.0            Away with Words (San tiao ren) (1999)   \n",
       "16060   84768.0                                Glitterbug (1994)   \n",
       "16351   86493.0  Age of the Earth, The (A Idade da Terra) (1980)   \n",
       "16491   87061.0                          Trails (Veredas) (1978)   \n",
       "17404   91246.0                         Milky Way (Tejút) (2007)   \n",
       "...         ...                                              ...   \n",
       "62400  209101.0                      Hua yang de nian hua (2001)   \n",
       "62401  209103.0                    Tsar Ivan the Terrible (1991)   \n",
       "62407  209133.0                    The Riot and the Dance (2018)   \n",
       "62415  209151.0                           Mao Zedong 1949 (2019)   \n",
       "62421  209169.0                              A Girl Thing (2001)   \n",
       "\n",
       "                   genres  \n",
       "15881  (no genres listed)  \n",
       "16060  (no genres listed)  \n",
       "16351  (no genres listed)  \n",
       "16491  (no genres listed)  \n",
       "17404  (no genres listed)  \n",
       "...                   ...  \n",
       "62400  (no genres listed)  \n",
       "62401  (no genres listed)  \n",
       "62407  (no genres listed)  \n",
       "62415  (no genres listed)  \n",
       "62421  (no genres listed)  \n",
       "\n",
       "[5062 rows x 3 columns]"
      ]
     },
     "execution_count": 27,
     "metadata": {},
     "output_type": "execute_result"
    }
   ],
   "source": [
    "#Dataframe de movies avec les genres non listes\n",
    "data_movies_nogenres=data_movies.where(data_movies.genres=='(no genres listed)').dropna()\n",
    "data_movies_nogenres"
   ]
  },
  {
   "cell_type": "code",
   "execution_count": 28,
   "metadata": {
    "colab": {
     "base_uri": "https://localhost:8080/",
     "height": 178
    },
    "id": "Gxf2GJJAU85I",
    "outputId": "877faafc-5e4b-48a6-909b-2015a8608bc4"
   },
   "outputs": [
    {
     "data": {
      "text/plain": [
       "movieId    float64\n",
       "title       object\n",
       "genres      object\n",
       "dtype: object"
      ]
     },
     "execution_count": 28,
     "metadata": {},
     "output_type": "execute_result"
    }
   ],
   "source": [
    "#Verifier les type de donnees que nous avons\n",
    "data_movies_nogenres.dtypes"
   ]
  },
  {
   "cell_type": "code",
   "execution_count": 29,
   "metadata": {
    "id": "uYNdJTSfVlP3"
   },
   "outputs": [],
   "source": [
    "#Changer le type de donnees de movieid\n",
    "data_movies_nogenres.movieId = data_movies_nogenres.movieId.astype(int)"
   ]
  },
  {
   "cell_type": "code",
   "execution_count": 30,
   "metadata": {
    "colab": {
     "base_uri": "https://localhost:8080/",
     "height": 423
    },
    "id": "3hYhxhBmWq6r",
    "outputId": "c6c47589-f597-4a62-f6a7-3e052eb4d259"
   },
   "outputs": [
    {
     "data": {
      "text/html": [
       "<div>\n",
       "<style scoped>\n",
       "    .dataframe tbody tr th:only-of-type {\n",
       "        vertical-align: middle;\n",
       "    }\n",
       "\n",
       "    .dataframe tbody tr th {\n",
       "        vertical-align: top;\n",
       "    }\n",
       "\n",
       "    .dataframe thead th {\n",
       "        text-align: right;\n",
       "    }\n",
       "</style>\n",
       "<table border=\"1\" class=\"dataframe\">\n",
       "  <thead>\n",
       "    <tr style=\"text-align: right;\">\n",
       "      <th></th>\n",
       "      <th>userId</th>\n",
       "      <th>movieId</th>\n",
       "      <th>rating</th>\n",
       "      <th>timestamp</th>\n",
       "      <th>title</th>\n",
       "      <th>genres</th>\n",
       "    </tr>\n",
       "  </thead>\n",
       "  <tbody>\n",
       "    <tr>\n",
       "      <th>0</th>\n",
       "      <td>20055</td>\n",
       "      <td>1</td>\n",
       "      <td>5.0</td>\n",
       "      <td>1160463838</td>\n",
       "      <td>NaN</td>\n",
       "      <td>NaN</td>\n",
       "    </tr>\n",
       "    <tr>\n",
       "      <th>1</th>\n",
       "      <td>20055</td>\n",
       "      <td>2</td>\n",
       "      <td>3.0</td>\n",
       "      <td>1160533952</td>\n",
       "      <td>NaN</td>\n",
       "      <td>NaN</td>\n",
       "    </tr>\n",
       "    <tr>\n",
       "      <th>2</th>\n",
       "      <td>20055</td>\n",
       "      <td>3</td>\n",
       "      <td>2.5</td>\n",
       "      <td>1163336461</td>\n",
       "      <td>NaN</td>\n",
       "      <td>NaN</td>\n",
       "    </tr>\n",
       "    <tr>\n",
       "      <th>3</th>\n",
       "      <td>20055</td>\n",
       "      <td>5</td>\n",
       "      <td>1.5</td>\n",
       "      <td>1163336723</td>\n",
       "      <td>NaN</td>\n",
       "      <td>NaN</td>\n",
       "    </tr>\n",
       "    <tr>\n",
       "      <th>4</th>\n",
       "      <td>20055</td>\n",
       "      <td>6</td>\n",
       "      <td>4.0</td>\n",
       "      <td>1160532816</td>\n",
       "      <td>NaN</td>\n",
       "      <td>NaN</td>\n",
       "    </tr>\n",
       "    <tr>\n",
       "      <th>...</th>\n",
       "      <td>...</td>\n",
       "      <td>...</td>\n",
       "      <td>...</td>\n",
       "      <td>...</td>\n",
       "      <td>...</td>\n",
       "      <td>...</td>\n",
       "    </tr>\n",
       "    <tr>\n",
       "      <th>138969</th>\n",
       "      <td>137293</td>\n",
       "      <td>202253</td>\n",
       "      <td>3.0</td>\n",
       "      <td>1561243131</td>\n",
       "      <td>NaN</td>\n",
       "      <td>NaN</td>\n",
       "    </tr>\n",
       "    <tr>\n",
       "      <th>138970</th>\n",
       "      <td>137293</td>\n",
       "      <td>202561</td>\n",
       "      <td>3.0</td>\n",
       "      <td>1561085428</td>\n",
       "      <td>NaN</td>\n",
       "      <td>NaN</td>\n",
       "    </tr>\n",
       "    <tr>\n",
       "      <th>138971</th>\n",
       "      <td>137293</td>\n",
       "      <td>202575</td>\n",
       "      <td>3.5</td>\n",
       "      <td>1563311305</td>\n",
       "      <td>NaN</td>\n",
       "      <td>NaN</td>\n",
       "    </tr>\n",
       "    <tr>\n",
       "      <th>138972</th>\n",
       "      <td>137293</td>\n",
       "      <td>203693</td>\n",
       "      <td>3.0</td>\n",
       "      <td>1563759849</td>\n",
       "      <td>NaN</td>\n",
       "      <td>NaN</td>\n",
       "    </tr>\n",
       "    <tr>\n",
       "      <th>138973</th>\n",
       "      <td>137293</td>\n",
       "      <td>205421</td>\n",
       "      <td>3.0</td>\n",
       "      <td>1567646902</td>\n",
       "      <td>NaN</td>\n",
       "      <td>NaN</td>\n",
       "    </tr>\n",
       "  </tbody>\n",
       "</table>\n",
       "<p>138974 rows × 6 columns</p>\n",
       "</div>"
      ],
      "text/plain": [
       "        userId  movieId  rating   timestamp title genres\n",
       "0        20055        1     5.0  1160463838   NaN    NaN\n",
       "1        20055        2     3.0  1160533952   NaN    NaN\n",
       "2        20055        3     2.5  1163336461   NaN    NaN\n",
       "3        20055        5     1.5  1163336723   NaN    NaN\n",
       "4        20055        6     4.0  1160532816   NaN    NaN\n",
       "...        ...      ...     ...         ...   ...    ...\n",
       "138969  137293   202253     3.0  1561243131   NaN    NaN\n",
       "138970  137293   202561     3.0  1561085428   NaN    NaN\n",
       "138971  137293   202575     3.5  1563311305   NaN    NaN\n",
       "138972  137293   203693     3.0  1563759849   NaN    NaN\n",
       "138973  137293   205421     3.0  1567646902   NaN    NaN\n",
       "\n",
       "[138974 rows x 6 columns]"
      ]
     },
     "execution_count": 30,
     "metadata": {},
     "output_type": "execute_result"
    }
   ],
   "source": [
    "#Merge data_movies_no_genres avec data_ratings pour avoir le nouveau data_ratings avec les films sans genre listes\n",
    "new_data_ratings = filtered_ratings.merge(data_movies_nogenres, on='movieId', how='left')\n",
    "\n",
    "# Display the resulting DataFrame\n",
    "new_data_ratings"
   ]
  },
  {
   "cell_type": "code",
   "execution_count": 31,
   "metadata": {
    "id": "zoWJOsouZZWA"
   },
   "outputs": [],
   "source": [
    "#suppression  des lignes (no genres listed) dans ratings\n",
    "data_ratings_1 =new_data_ratings.drop(new_data_ratings[new_data_ratings.genres=='(no genres listed)'].index)\n",
    "#Suppression des colonnes 'title' et 'genres'\n",
    "data_ratings_1=data_ratings_1.drop(columns=['title','genres'],axis=1)"
   ]
  },
  {
   "cell_type": "code",
   "execution_count": 32,
   "metadata": {
    "colab": {
     "base_uri": "https://localhost:8080/",
     "height": 209
    },
    "id": "QAc03Zrxhbkr",
    "outputId": "3d782116-fbd4-4f24-e2f2-8377fcb9b1a1"
   },
   "outputs": [
    {
     "data": {
      "text/plain": [
       "userId         int64\n",
       "movieId        int64\n",
       "rating       float64\n",
       "timestamp      int64\n",
       "dtype: object"
      ]
     },
     "execution_count": 32,
     "metadata": {},
     "output_type": "execute_result"
    }
   ],
   "source": [
    "#Verifier les types du dataframe ratings\n",
    "data_ratings_1.dtypes"
   ]
  },
  {
   "cell_type": "code",
   "execution_count": 35,
   "metadata": {
    "colab": {
     "base_uri": "https://localhost:8080/"
    },
    "id": "PmeOuiChtuOK",
    "outputId": "2201c382-3e8c-4c0e-e964-569662458b0c"
   },
   "outputs": [
    {
     "data": {
      "text/plain": [
       "(136267, 4)"
      ]
     },
     "execution_count": 35,
     "metadata": {},
     "output_type": "execute_result"
    }
   ],
   "source": [
    "#shape\n",
    "data_ratings_1.shape"
   ]
  },
  {
   "cell_type": "markdown",
   "metadata": {},
   "source": [
    "Standardisation des notes des évaluations"
   ]
  },
  {
   "cell_type": "code",
   "execution_count": 36,
   "metadata": {
    "id": "DGBPr4pId6-E"
   },
   "outputs": [],
   "source": [
    "#Mapping des ratings\n",
    "ratings_map= {5.5:5, 4.5: 4, 3.5:3, 2.5:2, 1.5:1, 0.5:1}\n",
    "\n",
    "# Appliquer le mapping avec iterrows()\n",
    "for index, row in data_ratings_1.iterrows():\n",
    "  if row['rating'] in ratings_map:\n",
    "    data_ratings_1.loc[index, 'rating'] = ratings_map[row['rating']]\n"
   ]
  },
  {
   "cell_type": "code",
   "execution_count": 37,
   "metadata": {
    "id": "4pwmnZRjiSzV"
   },
   "outputs": [],
   "source": [
    "#Changer le type de donnees de ratings\n",
    "data_ratings_1.rating = data_ratings_1.rating.astype(int)"
   ]
  },
  {
   "cell_type": "code",
   "execution_count": 40,
   "metadata": {
    "colab": {
     "base_uri": "https://localhost:8080/",
     "height": 423
    },
    "id": "W5PD3NYW6kx3",
    "outputId": "03ddec50-29fd-4f7e-a553-387f2bdb0c3d"
   },
   "outputs": [
    {
     "data": {
      "text/html": [
       "<div>\n",
       "<style scoped>\n",
       "    .dataframe tbody tr th:only-of-type {\n",
       "        vertical-align: middle;\n",
       "    }\n",
       "\n",
       "    .dataframe tbody tr th {\n",
       "        vertical-align: top;\n",
       "    }\n",
       "\n",
       "    .dataframe thead th {\n",
       "        text-align: right;\n",
       "    }\n",
       "</style>\n",
       "<table border=\"1\" class=\"dataframe\">\n",
       "  <thead>\n",
       "    <tr style=\"text-align: right;\">\n",
       "      <th></th>\n",
       "      <th>userId</th>\n",
       "      <th>movieId</th>\n",
       "      <th>rating</th>\n",
       "      <th>timestamp</th>\n",
       "    </tr>\n",
       "  </thead>\n",
       "  <tbody>\n",
       "    <tr>\n",
       "      <th>0</th>\n",
       "      <td>20055</td>\n",
       "      <td>1</td>\n",
       "      <td>5</td>\n",
       "      <td>1160463838</td>\n",
       "    </tr>\n",
       "    <tr>\n",
       "      <th>1</th>\n",
       "      <td>20055</td>\n",
       "      <td>2</td>\n",
       "      <td>3</td>\n",
       "      <td>1160533952</td>\n",
       "    </tr>\n",
       "    <tr>\n",
       "      <th>2</th>\n",
       "      <td>20055</td>\n",
       "      <td>3</td>\n",
       "      <td>2</td>\n",
       "      <td>1163336461</td>\n",
       "    </tr>\n",
       "    <tr>\n",
       "      <th>3</th>\n",
       "      <td>20055</td>\n",
       "      <td>5</td>\n",
       "      <td>1</td>\n",
       "      <td>1163336723</td>\n",
       "    </tr>\n",
       "    <tr>\n",
       "      <th>4</th>\n",
       "      <td>20055</td>\n",
       "      <td>6</td>\n",
       "      <td>4</td>\n",
       "      <td>1160532816</td>\n",
       "    </tr>\n",
       "    <tr>\n",
       "      <th>...</th>\n",
       "      <td>...</td>\n",
       "      <td>...</td>\n",
       "      <td>...</td>\n",
       "      <td>...</td>\n",
       "    </tr>\n",
       "    <tr>\n",
       "      <th>138969</th>\n",
       "      <td>137293</td>\n",
       "      <td>202253</td>\n",
       "      <td>3</td>\n",
       "      <td>1561243131</td>\n",
       "    </tr>\n",
       "    <tr>\n",
       "      <th>138970</th>\n",
       "      <td>137293</td>\n",
       "      <td>202561</td>\n",
       "      <td>3</td>\n",
       "      <td>1561085428</td>\n",
       "    </tr>\n",
       "    <tr>\n",
       "      <th>138971</th>\n",
       "      <td>137293</td>\n",
       "      <td>202575</td>\n",
       "      <td>3</td>\n",
       "      <td>1563311305</td>\n",
       "    </tr>\n",
       "    <tr>\n",
       "      <th>138972</th>\n",
       "      <td>137293</td>\n",
       "      <td>203693</td>\n",
       "      <td>3</td>\n",
       "      <td>1563759849</td>\n",
       "    </tr>\n",
       "    <tr>\n",
       "      <th>138973</th>\n",
       "      <td>137293</td>\n",
       "      <td>205421</td>\n",
       "      <td>3</td>\n",
       "      <td>1567646902</td>\n",
       "    </tr>\n",
       "  </tbody>\n",
       "</table>\n",
       "<p>136267 rows × 4 columns</p>\n",
       "</div>"
      ],
      "text/plain": [
       "        userId  movieId  rating   timestamp\n",
       "0        20055        1       5  1160463838\n",
       "1        20055        2       3  1160533952\n",
       "2        20055        3       2  1163336461\n",
       "3        20055        5       1  1163336723\n",
       "4        20055        6       4  1160532816\n",
       "...        ...      ...     ...         ...\n",
       "138969  137293   202253       3  1561243131\n",
       "138970  137293   202561       3  1561085428\n",
       "138971  137293   202575       3  1563311305\n",
       "138972  137293   203693       3  1563759849\n",
       "138973  137293   205421       3  1567646902\n",
       "\n",
       "[136267 rows x 4 columns]"
      ]
     },
     "execution_count": 40,
     "metadata": {},
     "output_type": "execute_result"
    }
   ],
   "source": [
    "data_ratings_1"
   ]
  },
  {
   "cell_type": "code",
   "execution_count": 41,
   "metadata": {
    "id": "ciAoFBJuaAPf"
   },
   "outputs": [],
   "source": [
    "#Generer le fichier ratings1\n",
    "data_ratings_1.to_csv(\"ratings_1.csv\",index=False)"
   ]
  },
  {
   "cell_type": "markdown",
   "metadata": {
    "id": "GrESQFIluryK"
   },
   "source": [
    "Construction de la matrice binaire de contenu C caractérisant chaque film"
   ]
  },
  {
   "cell_type": "code",
   "execution_count": 42,
   "metadata": {
    "id": "yfAMw45uV4xo"
   },
   "outputs": [],
   "source": [
    "# Extraire tous les genres uniques\n",
    "all_genres = set()\n",
    "for genres_str in data_movies_1['genres']:\n",
    "    all_genres.update(genres_str.split('|'))\n",
    "\n",
    "# Trier les genres par ordre alphabètique\n",
    "all_genres = sorted(all_genres)\n",
    "\n",
    "# Créer la matrice de contenu binaire\n",
    "content_matrix = pd.DataFrame(0, index=data_movies_1['movieId'], columns=all_genres)\n",
    "\n",
    "# Remplir la matrice\n",
    "for idx, row in data_movies_1.iterrows():\n",
    "    movie_genres = row['genres'].split('|')\n",
    "    content_matrix.loc[row['movieId'], movie_genres] = 1\n"
   ]
  },
  {
   "cell_type": "code",
   "execution_count": 45,
   "metadata": {
    "colab": {
     "base_uri": "https://localhost:8080/",
     "height": 492
    },
    "id": "s5HvGrNjWOIl",
    "outputId": "d745cfa9-7c0c-44c8-c94f-8e75f5c966c4"
   },
   "outputs": [
    {
     "data": {
      "text/html": [
       "<div>\n",
       "<style scoped>\n",
       "    .dataframe tbody tr th:only-of-type {\n",
       "        vertical-align: middle;\n",
       "    }\n",
       "\n",
       "    .dataframe tbody tr th {\n",
       "        vertical-align: top;\n",
       "    }\n",
       "\n",
       "    .dataframe thead th {\n",
       "        text-align: right;\n",
       "    }\n",
       "</style>\n",
       "<table border=\"1\" class=\"dataframe\">\n",
       "  <thead>\n",
       "    <tr style=\"text-align: right;\">\n",
       "      <th></th>\n",
       "      <th>Action</th>\n",
       "      <th>Adventure</th>\n",
       "      <th>Animation</th>\n",
       "      <th>Children</th>\n",
       "      <th>Comedy</th>\n",
       "      <th>Crime</th>\n",
       "      <th>Documentary</th>\n",
       "      <th>Drama</th>\n",
       "      <th>Fantasy</th>\n",
       "      <th>Film-Noir</th>\n",
       "      <th>Horror</th>\n",
       "      <th>IMAX</th>\n",
       "      <th>Musical</th>\n",
       "      <th>Mystery</th>\n",
       "      <th>Romance</th>\n",
       "      <th>Sci-Fi</th>\n",
       "      <th>Thriller</th>\n",
       "      <th>War</th>\n",
       "      <th>Western</th>\n",
       "    </tr>\n",
       "    <tr>\n",
       "      <th>movieId</th>\n",
       "      <th></th>\n",
       "      <th></th>\n",
       "      <th></th>\n",
       "      <th></th>\n",
       "      <th></th>\n",
       "      <th></th>\n",
       "      <th></th>\n",
       "      <th></th>\n",
       "      <th></th>\n",
       "      <th></th>\n",
       "      <th></th>\n",
       "      <th></th>\n",
       "      <th></th>\n",
       "      <th></th>\n",
       "      <th></th>\n",
       "      <th></th>\n",
       "      <th></th>\n",
       "      <th></th>\n",
       "      <th></th>\n",
       "    </tr>\n",
       "  </thead>\n",
       "  <tbody>\n",
       "    <tr>\n",
       "      <th>1</th>\n",
       "      <td>0</td>\n",
       "      <td>1</td>\n",
       "      <td>1</td>\n",
       "      <td>1</td>\n",
       "      <td>1</td>\n",
       "      <td>0</td>\n",
       "      <td>0</td>\n",
       "      <td>0</td>\n",
       "      <td>1</td>\n",
       "      <td>0</td>\n",
       "      <td>0</td>\n",
       "      <td>0</td>\n",
       "      <td>0</td>\n",
       "      <td>0</td>\n",
       "      <td>0</td>\n",
       "      <td>0</td>\n",
       "      <td>0</td>\n",
       "      <td>0</td>\n",
       "      <td>0</td>\n",
       "    </tr>\n",
       "    <tr>\n",
       "      <th>2</th>\n",
       "      <td>0</td>\n",
       "      <td>1</td>\n",
       "      <td>0</td>\n",
       "      <td>1</td>\n",
       "      <td>0</td>\n",
       "      <td>0</td>\n",
       "      <td>0</td>\n",
       "      <td>0</td>\n",
       "      <td>1</td>\n",
       "      <td>0</td>\n",
       "      <td>0</td>\n",
       "      <td>0</td>\n",
       "      <td>0</td>\n",
       "      <td>0</td>\n",
       "      <td>0</td>\n",
       "      <td>0</td>\n",
       "      <td>0</td>\n",
       "      <td>0</td>\n",
       "      <td>0</td>\n",
       "    </tr>\n",
       "    <tr>\n",
       "      <th>3</th>\n",
       "      <td>0</td>\n",
       "      <td>0</td>\n",
       "      <td>0</td>\n",
       "      <td>0</td>\n",
       "      <td>1</td>\n",
       "      <td>0</td>\n",
       "      <td>0</td>\n",
       "      <td>0</td>\n",
       "      <td>0</td>\n",
       "      <td>0</td>\n",
       "      <td>0</td>\n",
       "      <td>0</td>\n",
       "      <td>0</td>\n",
       "      <td>0</td>\n",
       "      <td>1</td>\n",
       "      <td>0</td>\n",
       "      <td>0</td>\n",
       "      <td>0</td>\n",
       "      <td>0</td>\n",
       "    </tr>\n",
       "    <tr>\n",
       "      <th>4</th>\n",
       "      <td>0</td>\n",
       "      <td>0</td>\n",
       "      <td>0</td>\n",
       "      <td>0</td>\n",
       "      <td>1</td>\n",
       "      <td>0</td>\n",
       "      <td>0</td>\n",
       "      <td>1</td>\n",
       "      <td>0</td>\n",
       "      <td>0</td>\n",
       "      <td>0</td>\n",
       "      <td>0</td>\n",
       "      <td>0</td>\n",
       "      <td>0</td>\n",
       "      <td>1</td>\n",
       "      <td>0</td>\n",
       "      <td>0</td>\n",
       "      <td>0</td>\n",
       "      <td>0</td>\n",
       "    </tr>\n",
       "    <tr>\n",
       "      <th>5</th>\n",
       "      <td>0</td>\n",
       "      <td>0</td>\n",
       "      <td>0</td>\n",
       "      <td>0</td>\n",
       "      <td>1</td>\n",
       "      <td>0</td>\n",
       "      <td>0</td>\n",
       "      <td>0</td>\n",
       "      <td>0</td>\n",
       "      <td>0</td>\n",
       "      <td>0</td>\n",
       "      <td>0</td>\n",
       "      <td>0</td>\n",
       "      <td>0</td>\n",
       "      <td>0</td>\n",
       "      <td>0</td>\n",
       "      <td>0</td>\n",
       "      <td>0</td>\n",
       "      <td>0</td>\n",
       "    </tr>\n",
       "    <tr>\n",
       "      <th>...</th>\n",
       "      <td>...</td>\n",
       "      <td>...</td>\n",
       "      <td>...</td>\n",
       "      <td>...</td>\n",
       "      <td>...</td>\n",
       "      <td>...</td>\n",
       "      <td>...</td>\n",
       "      <td>...</td>\n",
       "      <td>...</td>\n",
       "      <td>...</td>\n",
       "      <td>...</td>\n",
       "      <td>...</td>\n",
       "      <td>...</td>\n",
       "      <td>...</td>\n",
       "      <td>...</td>\n",
       "      <td>...</td>\n",
       "      <td>...</td>\n",
       "      <td>...</td>\n",
       "      <td>...</td>\n",
       "    </tr>\n",
       "    <tr>\n",
       "      <th>209155</th>\n",
       "      <td>1</td>\n",
       "      <td>0</td>\n",
       "      <td>0</td>\n",
       "      <td>0</td>\n",
       "      <td>1</td>\n",
       "      <td>0</td>\n",
       "      <td>0</td>\n",
       "      <td>0</td>\n",
       "      <td>0</td>\n",
       "      <td>0</td>\n",
       "      <td>0</td>\n",
       "      <td>0</td>\n",
       "      <td>0</td>\n",
       "      <td>0</td>\n",
       "      <td>1</td>\n",
       "      <td>0</td>\n",
       "      <td>0</td>\n",
       "      <td>0</td>\n",
       "      <td>0</td>\n",
       "    </tr>\n",
       "    <tr>\n",
       "      <th>209157</th>\n",
       "      <td>0</td>\n",
       "      <td>0</td>\n",
       "      <td>0</td>\n",
       "      <td>0</td>\n",
       "      <td>0</td>\n",
       "      <td>0</td>\n",
       "      <td>0</td>\n",
       "      <td>1</td>\n",
       "      <td>0</td>\n",
       "      <td>0</td>\n",
       "      <td>0</td>\n",
       "      <td>0</td>\n",
       "      <td>0</td>\n",
       "      <td>0</td>\n",
       "      <td>0</td>\n",
       "      <td>0</td>\n",
       "      <td>0</td>\n",
       "      <td>0</td>\n",
       "      <td>0</td>\n",
       "    </tr>\n",
       "    <tr>\n",
       "      <th>209159</th>\n",
       "      <td>0</td>\n",
       "      <td>0</td>\n",
       "      <td>0</td>\n",
       "      <td>0</td>\n",
       "      <td>0</td>\n",
       "      <td>0</td>\n",
       "      <td>1</td>\n",
       "      <td>0</td>\n",
       "      <td>0</td>\n",
       "      <td>0</td>\n",
       "      <td>0</td>\n",
       "      <td>0</td>\n",
       "      <td>0</td>\n",
       "      <td>0</td>\n",
       "      <td>0</td>\n",
       "      <td>0</td>\n",
       "      <td>0</td>\n",
       "      <td>0</td>\n",
       "      <td>0</td>\n",
       "    </tr>\n",
       "    <tr>\n",
       "      <th>209163</th>\n",
       "      <td>0</td>\n",
       "      <td>0</td>\n",
       "      <td>0</td>\n",
       "      <td>0</td>\n",
       "      <td>1</td>\n",
       "      <td>0</td>\n",
       "      <td>0</td>\n",
       "      <td>1</td>\n",
       "      <td>0</td>\n",
       "      <td>0</td>\n",
       "      <td>0</td>\n",
       "      <td>0</td>\n",
       "      <td>0</td>\n",
       "      <td>0</td>\n",
       "      <td>0</td>\n",
       "      <td>0</td>\n",
       "      <td>0</td>\n",
       "      <td>0</td>\n",
       "      <td>0</td>\n",
       "    </tr>\n",
       "    <tr>\n",
       "      <th>209171</th>\n",
       "      <td>1</td>\n",
       "      <td>1</td>\n",
       "      <td>0</td>\n",
       "      <td>0</td>\n",
       "      <td>0</td>\n",
       "      <td>0</td>\n",
       "      <td>0</td>\n",
       "      <td>1</td>\n",
       "      <td>0</td>\n",
       "      <td>0</td>\n",
       "      <td>0</td>\n",
       "      <td>0</td>\n",
       "      <td>0</td>\n",
       "      <td>0</td>\n",
       "      <td>0</td>\n",
       "      <td>0</td>\n",
       "      <td>0</td>\n",
       "      <td>0</td>\n",
       "      <td>0</td>\n",
       "    </tr>\n",
       "  </tbody>\n",
       "</table>\n",
       "<p>57361 rows × 19 columns</p>\n",
       "</div>"
      ],
      "text/plain": [
       "         Action  Adventure  Animation  Children  Comedy  Crime  Documentary  \\\n",
       "movieId                                                                       \n",
       "1             0          1          1         1       1      0            0   \n",
       "2             0          1          0         1       0      0            0   \n",
       "3             0          0          0         0       1      0            0   \n",
       "4             0          0          0         0       1      0            0   \n",
       "5             0          0          0         0       1      0            0   \n",
       "...         ...        ...        ...       ...     ...    ...          ...   \n",
       "209155        1          0          0         0       1      0            0   \n",
       "209157        0          0          0         0       0      0            0   \n",
       "209159        0          0          0         0       0      0            1   \n",
       "209163        0          0          0         0       1      0            0   \n",
       "209171        1          1          0         0       0      0            0   \n",
       "\n",
       "         Drama  Fantasy  Film-Noir  Horror  IMAX  Musical  Mystery  Romance  \\\n",
       "movieId                                                                       \n",
       "1            0        1          0       0     0        0        0        0   \n",
       "2            0        1          0       0     0        0        0        0   \n",
       "3            0        0          0       0     0        0        0        1   \n",
       "4            1        0          0       0     0        0        0        1   \n",
       "5            0        0          0       0     0        0        0        0   \n",
       "...        ...      ...        ...     ...   ...      ...      ...      ...   \n",
       "209155       0        0          0       0     0        0        0        1   \n",
       "209157       1        0          0       0     0        0        0        0   \n",
       "209159       0        0          0       0     0        0        0        0   \n",
       "209163       1        0          0       0     0        0        0        0   \n",
       "209171       1        0          0       0     0        0        0        0   \n",
       "\n",
       "         Sci-Fi  Thriller  War  Western  \n",
       "movieId                                  \n",
       "1             0         0    0        0  \n",
       "2             0         0    0        0  \n",
       "3             0         0    0        0  \n",
       "4             0         0    0        0  \n",
       "5             0         0    0        0  \n",
       "...         ...       ...  ...      ...  \n",
       "209155        0         0    0        0  \n",
       "209157        0         0    0        0  \n",
       "209159        0         0    0        0  \n",
       "209163        0         0    0        0  \n",
       "209171        0         0    0        0  \n",
       "\n",
       "[57361 rows x 19 columns]"
      ]
     },
     "execution_count": 45,
     "metadata": {},
     "output_type": "execute_result"
    }
   ],
   "source": [
    "content_matrix"
   ]
  },
  {
   "cell_type": "markdown",
   "metadata": {
    "id": "D83syuYLTChl"
   },
   "source": [
    "Construction de la matrice de profil des utilisateurs "
   ]
  },
  {
   "cell_type": "code",
   "execution_count": 46,
   "metadata": {
    "colab": {
     "base_uri": "https://localhost:8080/",
     "height": 458
    },
    "id": "C7KgMcm16BHf",
    "outputId": "bab08cd7-706a-4eba-b4fc-abce7d8e802e"
   },
   "outputs": [
    {
     "data": {
      "text/plain": [
       "0          20055\n",
       "1          20055\n",
       "2          20055\n",
       "3          20055\n",
       "4          20055\n",
       "           ...  \n",
       "138969    137293\n",
       "138970    137293\n",
       "138971    137293\n",
       "138972    137293\n",
       "138973    137293\n",
       "Name: userId, Length: 136267, dtype: int64"
      ]
     },
     "execution_count": 46,
     "metadata": {},
     "output_type": "execute_result"
    }
   ],
   "source": [
    "data_ratings_1['userId']"
   ]
  },
  {
   "cell_type": "code",
   "execution_count": 47,
   "metadata": {
    "colab": {
     "base_uri": "https://localhost:8080/"
    },
    "id": "T8Bt3tqMzBYO",
    "outputId": "cf44197e-5728-42a5-c5ac-f9af930be64b"
   },
   "outputs": [
    {
     "name": "stdout",
     "output_type": "stream",
     "text": [
      "          Action  Adventure  Animation  Children    Comedy     Crime  \\\n",
      "20055   0.187960   0.157359   0.050531  0.077208  0.434669  0.168091   \n",
      "29803   0.305101   0.177734   0.043236  0.069088  0.438262  0.195452   \n",
      "30879   0.201627   0.114488   0.007851  0.019671  0.641980  0.228718   \n",
      "33844   0.183993   0.099806   0.015289  0.028857  0.359515  0.213644   \n",
      "49403   0.308161   0.208424   0.117894  0.128763  0.567477  0.189116   \n",
      "57548   0.334139   0.231327   0.105233  0.099459  0.453528  0.180852   \n",
      "61010   0.241714   0.154041   0.045151  0.070084  0.472549  0.204269   \n",
      "72315   0.145207   0.095821   0.066485  0.047843  0.371490  0.140970   \n",
      "75309   0.254568   0.110906   0.028158  0.047696  0.384725  0.169233   \n",
      "78849   0.262970   0.142081   0.003870  0.028103  0.453240  0.255875   \n",
      "80974   0.178206   0.140623   0.030893  0.061508  0.466839  0.182016   \n",
      "92046   0.156675   0.139096   0.054450  0.072151  0.491952  0.175356   \n",
      "93855   0.275066   0.176433   0.065559  0.085215  0.539656  0.198207   \n",
      "109731  0.182505   0.135287   0.028185  0.038727  0.303370  0.214131   \n",
      "110971  0.254255   0.166203   0.036453  0.059859  0.353977  0.214917   \n",
      "115102  0.301809   0.151595   0.041219  0.065121  0.388815  0.262716   \n",
      "122011  0.205071   0.156799   0.038116  0.086959  0.484320  0.155202   \n",
      "137293  0.179755   0.148221   0.064040  0.063716  0.346875  0.150867   \n",
      "\n",
      "        Documentary     Drama   Fantasy  Film-Noir    Horror      IMAX  \\\n",
      "20055      0.079783  0.736693  0.087326   0.027964  0.110016  0.015638   \n",
      "29803      0.061399  0.651765  0.098729   0.006686  0.131935  0.030867   \n",
      "30879      0.023122  0.573822  0.059272   0.012769  0.079029  0.008714   \n",
      "33844      0.018995  0.746827  0.052220   0.018399  0.141966  0.013237   \n",
      "49403      0.077871  0.503159  0.126333   0.006777  0.159835  0.034141   \n",
      "57548      0.032967  0.576828  0.132240   0.011361  0.152169  0.031663   \n",
      "61010      0.040527  0.523684  0.099732   0.014325  0.311799  0.012421   \n",
      "72315      0.164917  0.813567  0.068197   0.016388  0.111057  0.007813   \n",
      "75309      0.150557  0.647912  0.067808   0.008045  0.289621  0.010344   \n",
      "78849      0.032249  0.640010  0.051875   0.033263  0.108818  0.011057   \n",
      "80974      0.042322  0.730199  0.061462   0.038419  0.060347  0.010081   \n",
      "92046      0.074846  0.727331  0.071171   0.028052  0.060208  0.016905   \n",
      "93855      0.060263  0.541186  0.108284   0.012123  0.202680  0.028954   \n",
      "109731     0.042973  0.784267  0.065154   0.047658  0.100367  0.021889   \n",
      "110971     0.080577  0.723754  0.078348   0.014358  0.099001  0.019079   \n",
      "115102     0.105702  0.548802  0.080419   0.038457  0.302447  0.021884   \n",
      "122011     0.035719  0.697836  0.076916   0.018373  0.127471  0.004222   \n",
      "137293     0.098490  0.771181  0.100380   0.034882  0.182941  0.020681   \n",
      "\n",
      "         Musical   Mystery   Romance    Sci-Fi  Thriller       War   Western  \n",
      "20055   0.073651  0.085548  0.240883  0.101676  0.233095  0.082972  0.045196  \n",
      "29803   0.020392  0.082460  0.187986  0.155447  0.333739  0.056942  0.018609  \n",
      "30879   0.037012  0.085672  0.225784  0.103100  0.265903  0.018981  0.012424  \n",
      "33844   0.023363  0.106226  0.187435  0.076840  0.375201  0.062412  0.034350  \n",
      "49403   0.039383  0.089635  0.174284  0.190523  0.305476  0.037977  0.018797  \n",
      "57548   0.044142  0.089216  0.178804  0.214378  0.319798  0.096107  0.023282  \n",
      "61010   0.033002  0.141438  0.159299  0.168366  0.431296  0.036085  0.017861  \n",
      "72315   0.034437  0.073891  0.205201  0.076874  0.198337  0.062943  0.027963  \n",
      "75309   0.022698  0.106597  0.180439  0.130444  0.384150  0.043960  0.033329  \n",
      "78849   0.021837  0.118769  0.196536  0.120612  0.373723  0.063761  0.032434  \n",
      "80974   0.077721  0.080648  0.273952  0.068523  0.213838  0.078883  0.066665  \n",
      "92046   0.059901  0.078154  0.247140  0.076377  0.219271  0.066149  0.041588  \n",
      "93855   0.034133  0.095102  0.176197  0.171372  0.357927  0.042961  0.015890  \n",
      "109731  0.051391  0.100001  0.224526  0.091289  0.307104  0.081992  0.042387  \n",
      "110971  0.043534  0.096444  0.180824  0.133422  0.340995  0.066678  0.045698  \n",
      "115102  0.027408  0.128968  0.144903  0.130136  0.428546  0.043343  0.081800  \n",
      "122011  0.055690  0.081709  0.249692  0.113320  0.254028  0.062879  0.038344  \n",
      "137293  0.058802  0.103728  0.226678  0.118253  0.243525  0.068360  0.036124  \n"
     ]
    }
   ],
   "source": [
    "user_profile = {}\n",
    "\n",
    "for user_id, user_movies in data_ratings_1.groupby('userId'):\n",
    "    profile_vector = (user_movies['rating'].values[:, None] *\n",
    "                      content_matrix.loc[user_movies['movieId']].values).sum(axis=0)\n",
    "    norm = np.linalg.norm(profile_vector)\n",
    "    user_profile[user_id] = profile_vector / norm if norm > 0 else profile_vector\n",
    "\n",
    "# Convertir le dictionnaire en DataFrame\n",
    "user_profiles_df = pd.DataFrame.from_dict(user_profile, orient='index', columns=content_matrix.columns)\n",
    "print(user_profiles_df)"
   ]
  },
  {
   "cell_type": "markdown",
   "metadata": {
    "id": "-qfsVFarTFhw"
   },
   "source": [
    "Diviser les données en 80% pour les données d'entraînement et 20% pour les données de test"
   ]
  },
  {
   "cell_type": "code",
   "execution_count": 48,
   "metadata": {
    "colab": {
     "base_uri": "https://localhost:8080/"
    },
    "id": "nEcwLeglWvrH",
    "outputId": "82e3bd77-b848-4c32-88d2-f1f4b04a4881"
   },
   "outputs": [
    {
     "name": "stdout",
     "output_type": "stream",
     "text": [
      "Taille de l'ensemble d'apprentissage : 109013\n",
      "Taille de l'ensemble d'évaluation : 27254\n"
     ]
    }
   ],
   "source": [
    "# Mélanger les données\n",
    "data_ratings_shuffled = data_ratings_1.sample(frac=1, random_state=42).reset_index(drop=True)\n",
    "\n",
    "# Diviser les données (80 % pour les données d'entraînement et 20% pour les données de test)\n",
    "split_index = int(len(data_ratings_shuffled) * 0.8)\n",
    "ratings_apprentissage = data_ratings_shuffled[:split_index]\n",
    "ratings_evaluation = data_ratings_shuffled[split_index:]\n",
    "\n",
    "# Créer les fichiers ratings_apprentissage.csv et ratings_evaluation.csv qui contiennent respectivement les données d'entraînement\n",
    "# et les données d'évaluation\n",
    "ratings_apprentissage.to_csv(\"ratings_apprentissage.csv\", index=False)\n",
    "ratings_evaluation.to_csv(\"ratings_evaluation.csv\", index=False)\n",
    "\n",
    "# Afficher les tailles des ensembles\n",
    "print(f\"Taille de l'ensemble d'apprentissage : {len(ratings_apprentissage)}\")\n",
    "print(f\"Taille de l'ensemble d'évaluation : {len(ratings_evaluation)}\")"
   ]
  },
  {
   "cell_type": "markdown",
   "metadata": {
    "id": "IwEd4Zw_ENAN"
   },
   "source": [
    "Application de la combinaison \"K-means + silhouette\" pour déterminer le bon nombre de clusters et les résultats du clustering "
   ]
  },
  {
   "cell_type": "code",
   "execution_count": 49,
   "metadata": {
    "colab": {
     "base_uri": "https://localhost:8080/"
    },
    "id": "joumnrZTAhHr",
    "outputId": "59b21a1d-c3a9-4df7-d65f-cb4dcd896ed3"
   },
   "outputs": [
    {
     "name": "stdout",
     "output_type": "stream",
     "text": [
      "Meilleur nombre de clusters : 2\n",
      "Scores de silhouette pour chaque k : [(2, np.float64(0.32103403775401357)), (3, np.float64(0.3131990902145277)), (4, np.float64(0.2639469983207576)), (5, np.float64(0.2474550645013966)), (6, np.float64(0.2855881223753658)), (7, np.float64(0.29245073561114243)), (8, np.float64(0.23363578086579484)), (9, np.float64(0.16831304349464424)), (10, np.float64(0.1648440799008041))]\n"
     ]
    }
   ],
   "source": [
    "def effectuer_clustering(user_profiles_df):\n",
    "\n",
    "    # Initialiser best_k à 2, cette valeur sera mise à jour si un autre k est trouvé comme optimal\n",
    "    best_k = 2\n",
    "\n",
    "    # Initialiser le score silhouette correspondant au clustering optimal\n",
    "    best_silhouette = -1\n",
    "\n",
    "    # Initialisation d'une liste qui contient les scores silhouette pour les différentes valeurs de k\n",
    "    silhouette_scores = []\n",
    "\n",
    "    for k in range (2,11):\n",
    "            # Appliquer k-means clustering\n",
    "            kmeans = KMeans(n_clusters=k, random_state=42)\n",
    "            cluster_labels = kmeans.fit_predict(user_profiles_df)\n",
    "\n",
    "            # Calculer le score de silhouette\n",
    "            silhouette_avg = silhouette_score(user_profiles_df, cluster_labels)\n",
    "            silhouette_scores.append((k, silhouette_avg))\n",
    "\n",
    "            # Chercher le k et le score silhouette correspondant au clustering optimal\n",
    "            if silhouette_avg > best_silhouette:\n",
    "                best_k = k\n",
    "                best_silhouette = silhouette_avg\n",
    "    return best_k, silhouette_scores\n",
    "\n",
    "# Appel de la fonction avec la matrice user_profiles_df\n",
    "best_k, silhouette_scores = effectuer_clustering(user_profiles_df)\n",
    "\n",
    "print(f\"Meilleur nombre de clusters : {best_k}\")\n",
    "print(\"Scores de silhouette pour chaque k :\", silhouette_scores)"
   ]
  },
  {
   "cell_type": "code",
   "execution_count": 50,
   "metadata": {
    "id": "Aansb9sBAFd3"
   },
   "outputs": [],
   "source": [
    "# On roule le KMeans pour le k optimal trouvé\n",
    "kmeans = KMeans(n_clusters=best_k, random_state=42)\n",
    "\n",
    "# Ajout d'une colonne \"cluster\" à la matrice user_profiles_df qui indique le cluster à lequel appartient chaque utilisateur\n",
    "user_profiles_df[\"cluster\"] = kmeans.fit_predict(user_profiles_df)"
   ]
  },
  {
   "cell_type": "code",
   "execution_count": 51,
   "metadata": {
    "colab": {
     "base_uri": "https://localhost:8080/",
     "height": 243
    },
    "id": "FzOtq41bXaee",
    "outputId": "8e7f2946-3994-4207-c77c-4f6935493860"
   },
   "outputs": [
    {
     "data": {
      "text/html": [
       "<div>\n",
       "<style scoped>\n",
       "    .dataframe tbody tr th:only-of-type {\n",
       "        vertical-align: middle;\n",
       "    }\n",
       "\n",
       "    .dataframe tbody tr th {\n",
       "        vertical-align: top;\n",
       "    }\n",
       "\n",
       "    .dataframe thead th {\n",
       "        text-align: right;\n",
       "    }\n",
       "</style>\n",
       "<table border=\"1\" class=\"dataframe\">\n",
       "  <thead>\n",
       "    <tr style=\"text-align: right;\">\n",
       "      <th></th>\n",
       "      <th>Action</th>\n",
       "      <th>Adventure</th>\n",
       "      <th>Animation</th>\n",
       "      <th>Children</th>\n",
       "      <th>Comedy</th>\n",
       "      <th>Crime</th>\n",
       "      <th>Documentary</th>\n",
       "      <th>Drama</th>\n",
       "      <th>Fantasy</th>\n",
       "      <th>Film-Noir</th>\n",
       "      <th>Horror</th>\n",
       "      <th>IMAX</th>\n",
       "      <th>Musical</th>\n",
       "      <th>Mystery</th>\n",
       "      <th>Romance</th>\n",
       "      <th>Sci-Fi</th>\n",
       "      <th>Thriller</th>\n",
       "      <th>War</th>\n",
       "      <th>Western</th>\n",
       "      <th>cluster</th>\n",
       "    </tr>\n",
       "  </thead>\n",
       "  <tbody>\n",
       "    <tr>\n",
       "      <th>20055</th>\n",
       "      <td>0.187960</td>\n",
       "      <td>0.157359</td>\n",
       "      <td>0.050531</td>\n",
       "      <td>0.077208</td>\n",
       "      <td>0.434669</td>\n",
       "      <td>0.168091</td>\n",
       "      <td>0.079783</td>\n",
       "      <td>0.736693</td>\n",
       "      <td>0.087326</td>\n",
       "      <td>0.027964</td>\n",
       "      <td>0.110016</td>\n",
       "      <td>0.015638</td>\n",
       "      <td>0.073651</td>\n",
       "      <td>0.085548</td>\n",
       "      <td>0.240883</td>\n",
       "      <td>0.101676</td>\n",
       "      <td>0.233095</td>\n",
       "      <td>0.082972</td>\n",
       "      <td>0.045196</td>\n",
       "      <td>1</td>\n",
       "    </tr>\n",
       "    <tr>\n",
       "      <th>29803</th>\n",
       "      <td>0.305101</td>\n",
       "      <td>0.177734</td>\n",
       "      <td>0.043236</td>\n",
       "      <td>0.069088</td>\n",
       "      <td>0.438262</td>\n",
       "      <td>0.195452</td>\n",
       "      <td>0.061399</td>\n",
       "      <td>0.651765</td>\n",
       "      <td>0.098729</td>\n",
       "      <td>0.006686</td>\n",
       "      <td>0.131935</td>\n",
       "      <td>0.030867</td>\n",
       "      <td>0.020392</td>\n",
       "      <td>0.082460</td>\n",
       "      <td>0.187986</td>\n",
       "      <td>0.155447</td>\n",
       "      <td>0.333739</td>\n",
       "      <td>0.056942</td>\n",
       "      <td>0.018609</td>\n",
       "      <td>0</td>\n",
       "    </tr>\n",
       "    <tr>\n",
       "      <th>30879</th>\n",
       "      <td>0.201627</td>\n",
       "      <td>0.114488</td>\n",
       "      <td>0.007851</td>\n",
       "      <td>0.019671</td>\n",
       "      <td>0.641980</td>\n",
       "      <td>0.228718</td>\n",
       "      <td>0.023122</td>\n",
       "      <td>0.573822</td>\n",
       "      <td>0.059272</td>\n",
       "      <td>0.012769</td>\n",
       "      <td>0.079029</td>\n",
       "      <td>0.008714</td>\n",
       "      <td>0.037012</td>\n",
       "      <td>0.085672</td>\n",
       "      <td>0.225784</td>\n",
       "      <td>0.103100</td>\n",
       "      <td>0.265903</td>\n",
       "      <td>0.018981</td>\n",
       "      <td>0.012424</td>\n",
       "      <td>0</td>\n",
       "    </tr>\n",
       "    <tr>\n",
       "      <th>33844</th>\n",
       "      <td>0.183993</td>\n",
       "      <td>0.099806</td>\n",
       "      <td>0.015289</td>\n",
       "      <td>0.028857</td>\n",
       "      <td>0.359515</td>\n",
       "      <td>0.213644</td>\n",
       "      <td>0.018995</td>\n",
       "      <td>0.746827</td>\n",
       "      <td>0.052220</td>\n",
       "      <td>0.018399</td>\n",
       "      <td>0.141966</td>\n",
       "      <td>0.013237</td>\n",
       "      <td>0.023363</td>\n",
       "      <td>0.106226</td>\n",
       "      <td>0.187435</td>\n",
       "      <td>0.076840</td>\n",
       "      <td>0.375201</td>\n",
       "      <td>0.062412</td>\n",
       "      <td>0.034350</td>\n",
       "      <td>1</td>\n",
       "    </tr>\n",
       "    <tr>\n",
       "      <th>49403</th>\n",
       "      <td>0.308161</td>\n",
       "      <td>0.208424</td>\n",
       "      <td>0.117894</td>\n",
       "      <td>0.128763</td>\n",
       "      <td>0.567477</td>\n",
       "      <td>0.189116</td>\n",
       "      <td>0.077871</td>\n",
       "      <td>0.503159</td>\n",
       "      <td>0.126333</td>\n",
       "      <td>0.006777</td>\n",
       "      <td>0.159835</td>\n",
       "      <td>0.034141</td>\n",
       "      <td>0.039383</td>\n",
       "      <td>0.089635</td>\n",
       "      <td>0.174284</td>\n",
       "      <td>0.190523</td>\n",
       "      <td>0.305476</td>\n",
       "      <td>0.037977</td>\n",
       "      <td>0.018797</td>\n",
       "      <td>0</td>\n",
       "    </tr>\n",
       "  </tbody>\n",
       "</table>\n",
       "</div>"
      ],
      "text/plain": [
       "         Action  Adventure  Animation  Children    Comedy     Crime  \\\n",
       "20055  0.187960   0.157359   0.050531  0.077208  0.434669  0.168091   \n",
       "29803  0.305101   0.177734   0.043236  0.069088  0.438262  0.195452   \n",
       "30879  0.201627   0.114488   0.007851  0.019671  0.641980  0.228718   \n",
       "33844  0.183993   0.099806   0.015289  0.028857  0.359515  0.213644   \n",
       "49403  0.308161   0.208424   0.117894  0.128763  0.567477  0.189116   \n",
       "\n",
       "       Documentary     Drama   Fantasy  Film-Noir    Horror      IMAX  \\\n",
       "20055     0.079783  0.736693  0.087326   0.027964  0.110016  0.015638   \n",
       "29803     0.061399  0.651765  0.098729   0.006686  0.131935  0.030867   \n",
       "30879     0.023122  0.573822  0.059272   0.012769  0.079029  0.008714   \n",
       "33844     0.018995  0.746827  0.052220   0.018399  0.141966  0.013237   \n",
       "49403     0.077871  0.503159  0.126333   0.006777  0.159835  0.034141   \n",
       "\n",
       "        Musical   Mystery   Romance    Sci-Fi  Thriller       War   Western  \\\n",
       "20055  0.073651  0.085548  0.240883  0.101676  0.233095  0.082972  0.045196   \n",
       "29803  0.020392  0.082460  0.187986  0.155447  0.333739  0.056942  0.018609   \n",
       "30879  0.037012  0.085672  0.225784  0.103100  0.265903  0.018981  0.012424   \n",
       "33844  0.023363  0.106226  0.187435  0.076840  0.375201  0.062412  0.034350   \n",
       "49403  0.039383  0.089635  0.174284  0.190523  0.305476  0.037977  0.018797   \n",
       "\n",
       "       cluster  \n",
       "20055        1  \n",
       "29803        0  \n",
       "30879        0  \n",
       "33844        1  \n",
       "49403        0  "
      ]
     },
     "execution_count": 51,
     "metadata": {},
     "output_type": "execute_result"
    }
   ],
   "source": [
    "user_profiles_df.head()"
   ]
  },
  {
   "cell_type": "code",
   "execution_count": 52,
   "metadata": {
    "id": "bW78c2h7AGzn"
   },
   "outputs": [],
   "source": [
    "def generer_recommendations(train_set, user_profiles_df, top_n=10):\n",
    "    # Chercher les films les plus populaires dans chaque cluster\n",
    "    train_set = train_set.merge(user_profiles_df[\"cluster\"], how=\"left\", left_on=\"userId\", right_index=True)\n",
    "    cluster_popularity = train_set.groupby([\"cluster\", \"movieId\"])[\"rating\"].mean().reset_index()\n",
    "\n",
    "    # Stocker les recommandations\n",
    "    recommendations = {}\n",
    "\n",
    "    for user_id, user_cluster in user_profiles_df[\"cluster\"].items():\n",
    "        # Chercher les films les plus populaires dans le cluster de l'utilisateur\n",
    "        cluster_movies = cluster_popularity[cluster_popularity[\"cluster\"] == user_cluster]\n",
    "        cluster_movies = cluster_movies.sort_values(by=\"rating\", ascending=False)\n",
    "\n",
    "        # Eliminer les films déjà évalués par l'utilisateur\n",
    "        user_movies = train_set[train_set[\"userId\"] == user_id][\"movieId\"].unique()\n",
    "        recommended_movies = cluster_movies[~cluster_movies[\"movieId\"].isin(user_movies)]\n",
    "\n",
    "        # Garder les top N recommandations (dans notre cas, top_n=10)\n",
    "        recommendations[user_id] = recommended_movies[\"movieId\"].head(top_n).tolist()\n",
    "\n",
    "    return recommendations"
   ]
  },
  {
   "cell_type": "code",
   "execution_count": 53,
   "metadata": {
    "colab": {
     "base_uri": "https://localhost:8080/"
    },
    "id": "0vogp-BDAmsB",
    "outputId": "37cef37a-0c06-470a-b93a-dd25b1aa6904"
   },
   "outputs": [
    {
     "name": "stdout",
     "output_type": "stream",
     "text": [
      "RMSE du système de recommandation : 1.1534\n"
     ]
    },
    {
     "name": "stderr",
     "output_type": "stream",
     "text": [
      "c:\\Users\\Pc\\AppData\\Local\\Programs\\Python\\Python312\\Lib\\site-packages\\sklearn\\metrics\\_regression.py:492: FutureWarning: 'squared' is deprecated in version 1.4 and will be removed in 1.6. To calculate the root mean squared error, use the function'root_mean_squared_error'.\n",
      "  warnings.warn(\n"
     ]
    }
   ],
   "source": [
    "# Charger les données d'apprentissage\n",
    "train_set = pd.read_csv(\"ratings_apprentissage.csv\")\n",
    "\n",
    "# Faire des recommandations\n",
    "recommendations = generer_recommendations(train_set, user_profiles_df)\n",
    "\n",
    "# Évaluation du système de recommandation\n",
    "def evaluation_systeme_recommandation(test_set, recommendations):\n",
    "    predictions = []\n",
    "    actuals = []\n",
    "\n",
    "    for _, row in test_set.iterrows():\n",
    "        user_id = row[\"userId\"]\n",
    "        movie_id = row[\"movieId\"]\n",
    "        actual_rating = row[\"rating\"]\n",
    "\n",
    "        # Vérifier si un film recommandé correspond à l'utilisateur\n",
    "        if user_id in recommendations and movie_id in recommendations[user_id]:\n",
    "            predicted_rating = train_set[train_set[\"movieId\"] == movie_id][\"rating\"].mean()\n",
    "            predictions.append(predicted_rating)\n",
    "            actuals.append(actual_rating)\n",
    "\n",
    "    # Calculer le RMSE\n",
    "    rmse = mean_squared_error(actuals, predictions, squared=False)\n",
    "    return rmse\n",
    "\n",
    "# Charger les données d'évaluation\n",
    "test_set = pd.read_csv(\"ratings_evaluation.csv\")\n",
    "\n",
    "# Évaluer le système de recommandation\n",
    "rmse = evaluation_systeme_recommandation(test_set, recommendations)\n",
    "print(f\"RMSE du système de recommandation : {rmse:.4f}\")"
   ]
  }
 ],
 "metadata": {
  "colab": {
   "provenance": []
  },
  "kernelspec": {
   "display_name": "Python 3",
   "name": "python3"
  },
  "language_info": {
   "codemirror_mode": {
    "name": "ipython",
    "version": 3
   },
   "file_extension": ".py",
   "mimetype": "text/x-python",
   "name": "python",
   "nbconvert_exporter": "python",
   "pygments_lexer": "ipython3",
   "version": "3.12.7"
  }
 },
 "nbformat": 4,
 "nbformat_minor": 0
}
